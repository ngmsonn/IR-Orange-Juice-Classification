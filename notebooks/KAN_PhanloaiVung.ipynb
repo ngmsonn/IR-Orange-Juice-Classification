{
 "cells": [
  {
   "cell_type": "code",
   "execution_count": 37,
   "metadata": {},
   "outputs": [],
   "source": [
    "import pandas as pd\n",
    "import matplotlib.pyplot as plt\n",
    "import numpy as np\n",
    "from sklearn.metrics import accuracy_score, confusion_matrix, ConfusionMatrixDisplay, precision_score, f1_score, recall_score\n",
    "from sklearn.preprocessing import StandardScaler, LabelEncoder, OneHotEncoder\n",
    "from sklearn.model_selection import train_test_split, GridSearchCV\n",
    "from sklearn.svm import LinearSVC, SVC\n",
    "from sklearn.decomposition import PCA\n",
    "from sklearn.cross_decomposition import PLSRegression\n",
    "from sklearn.tree import DecisionTreeClassifier\n",
    "from sklearn.ensemble import RandomForestClassifier\n",
    "from sklearn.neural_network import MLPClassifier\n",
    "from sklearn.pipeline import Pipeline\n",
    "from scipy.signal import savgol_filter\n",
    "from icecream import ic\n",
    "import random\n",
    "\n",
    "import torch"
   ]
  },
  {
   "cell_type": "code",
   "execution_count": 38,
   "metadata": {},
   "outputs": [
    {
     "data": {
      "text/html": [
       "<div>\n",
       "<style scoped>\n",
       "    .dataframe tbody tr th:only-of-type {\n",
       "        vertical-align: middle;\n",
       "    }\n",
       "\n",
       "    .dataframe tbody tr th {\n",
       "        vertical-align: top;\n",
       "    }\n",
       "\n",
       "    .dataframe thead th {\n",
       "        text-align: right;\n",
       "    }\n",
       "</style>\n",
       "<table border=\"1\" class=\"dataframe\">\n",
       "  <thead>\n",
       "    <tr style=\"text-align: right;\">\n",
       "      <th></th>\n",
       "      <th>TenMau</th>\n",
       "      <th>648.5568</th>\n",
       "      <th>652.2841</th>\n",
       "      <th>656.0115</th>\n",
       "      <th>659.7388</th>\n",
       "      <th>663.4661</th>\n",
       "      <th>667.1935</th>\n",
       "      <th>670.9208</th>\n",
       "      <th>674.6481</th>\n",
       "      <th>678.3755</th>\n",
       "      <th>...</th>\n",
       "      <th>3965.8875</th>\n",
       "      <th>3969.6148</th>\n",
       "      <th>3973.3421</th>\n",
       "      <th>3977.0695</th>\n",
       "      <th>3980.7968</th>\n",
       "      <th>3984.5241</th>\n",
       "      <th>3988.2515</th>\n",
       "      <th>3991.9788</th>\n",
       "      <th>3995.7062</th>\n",
       "      <th>3999.4335</th>\n",
       "    </tr>\n",
       "  </thead>\n",
       "  <tbody>\n",
       "    <tr>\n",
       "      <th>0</th>\n",
       "      <td>NA.23.xadoai.10</td>\n",
       "      <td>0.305598</td>\n",
       "      <td>0.301469</td>\n",
       "      <td>0.296560</td>\n",
       "      <td>0.291692</td>\n",
       "      <td>0.289974</td>\n",
       "      <td>0.287380</td>\n",
       "      <td>0.284316</td>\n",
       "      <td>0.278987</td>\n",
       "      <td>0.275145</td>\n",
       "      <td>...</td>\n",
       "      <td>-0.002144</td>\n",
       "      <td>-0.002139</td>\n",
       "      <td>-0.002075</td>\n",
       "      <td>-0.002154</td>\n",
       "      <td>-0.002012</td>\n",
       "      <td>-0.001937</td>\n",
       "      <td>-0.001972</td>\n",
       "      <td>-0.002195</td>\n",
       "      <td>-0.002218</td>\n",
       "      <td>-0.002093</td>\n",
       "    </tr>\n",
       "    <tr>\n",
       "      <th>1</th>\n",
       "      <td>BG.23.vinh.02</td>\n",
       "      <td>0.334148</td>\n",
       "      <td>0.326995</td>\n",
       "      <td>0.323069</td>\n",
       "      <td>0.320567</td>\n",
       "      <td>0.320840</td>\n",
       "      <td>0.319613</td>\n",
       "      <td>0.316539</td>\n",
       "      <td>0.312681</td>\n",
       "      <td>0.312266</td>\n",
       "      <td>...</td>\n",
       "      <td>0.007638</td>\n",
       "      <td>0.007602</td>\n",
       "      <td>0.007500</td>\n",
       "      <td>0.007479</td>\n",
       "      <td>0.007357</td>\n",
       "      <td>0.007200</td>\n",
       "      <td>0.007395</td>\n",
       "      <td>0.007561</td>\n",
       "      <td>0.007416</td>\n",
       "      <td>0.007212</td>\n",
       "    </tr>\n",
       "    <tr>\n",
       "      <th>2</th>\n",
       "      <td>NA.23.xadoai.03</td>\n",
       "      <td>0.431925</td>\n",
       "      <td>0.424417</td>\n",
       "      <td>0.420497</td>\n",
       "      <td>0.414126</td>\n",
       "      <td>0.408547</td>\n",
       "      <td>0.404646</td>\n",
       "      <td>0.402785</td>\n",
       "      <td>0.394614</td>\n",
       "      <td>0.391310</td>\n",
       "      <td>...</td>\n",
       "      <td>0.001096</td>\n",
       "      <td>0.001071</td>\n",
       "      <td>0.001132</td>\n",
       "      <td>0.001156</td>\n",
       "      <td>0.001213</td>\n",
       "      <td>0.001225</td>\n",
       "      <td>0.001119</td>\n",
       "      <td>0.000992</td>\n",
       "      <td>0.000941</td>\n",
       "      <td>0.001038</td>\n",
       "    </tr>\n",
       "    <tr>\n",
       "      <th>3</th>\n",
       "      <td>TQ.23.vinh.01</td>\n",
       "      <td>0.233424</td>\n",
       "      <td>0.229912</td>\n",
       "      <td>0.229714</td>\n",
       "      <td>0.229300</td>\n",
       "      <td>0.231312</td>\n",
       "      <td>0.229293</td>\n",
       "      <td>0.228230</td>\n",
       "      <td>0.227290</td>\n",
       "      <td>0.226978</td>\n",
       "      <td>...</td>\n",
       "      <td>0.015297</td>\n",
       "      <td>0.015310</td>\n",
       "      <td>0.015481</td>\n",
       "      <td>0.015362</td>\n",
       "      <td>0.015307</td>\n",
       "      <td>0.015477</td>\n",
       "      <td>0.015379</td>\n",
       "      <td>0.015176</td>\n",
       "      <td>0.015227</td>\n",
       "      <td>0.015108</td>\n",
       "    </tr>\n",
       "    <tr>\n",
       "      <th>4</th>\n",
       "      <td>VL.23.sanh.10</td>\n",
       "      <td>0.280723</td>\n",
       "      <td>0.276275</td>\n",
       "      <td>0.272200</td>\n",
       "      <td>0.266718</td>\n",
       "      <td>0.264426</td>\n",
       "      <td>0.264696</td>\n",
       "      <td>0.263036</td>\n",
       "      <td>0.257795</td>\n",
       "      <td>0.255794</td>\n",
       "      <td>...</td>\n",
       "      <td>-0.001905</td>\n",
       "      <td>-0.002035</td>\n",
       "      <td>-0.002084</td>\n",
       "      <td>-0.002143</td>\n",
       "      <td>-0.002178</td>\n",
       "      <td>-0.002196</td>\n",
       "      <td>-0.002110</td>\n",
       "      <td>-0.002060</td>\n",
       "      <td>-0.002029</td>\n",
       "      <td>-0.002010</td>\n",
       "    </tr>\n",
       "  </tbody>\n",
       "</table>\n",
       "<p>5 rows × 901 columns</p>\n",
       "</div>"
      ],
      "text/plain": [
       "            TenMau  648.5568  652.2841  656.0115  659.7388  663.4661  \\\n",
       "0  NA.23.xadoai.10  0.305598  0.301469  0.296560  0.291692  0.289974   \n",
       "1    BG.23.vinh.02  0.334148  0.326995  0.323069  0.320567  0.320840   \n",
       "2  NA.23.xadoai.03  0.431925  0.424417  0.420497  0.414126  0.408547   \n",
       "3    TQ.23.vinh.01  0.233424  0.229912  0.229714  0.229300  0.231312   \n",
       "4    VL.23.sanh.10  0.280723  0.276275  0.272200  0.266718  0.264426   \n",
       "\n",
       "   667.1935  670.9208  674.6481  678.3755  ...  3965.8875  3969.6148  \\\n",
       "0  0.287380  0.284316  0.278987  0.275145  ...  -0.002144  -0.002139   \n",
       "1  0.319613  0.316539  0.312681  0.312266  ...   0.007638   0.007602   \n",
       "2  0.404646  0.402785  0.394614  0.391310  ...   0.001096   0.001071   \n",
       "3  0.229293  0.228230  0.227290  0.226978  ...   0.015297   0.015310   \n",
       "4  0.264696  0.263036  0.257795  0.255794  ...  -0.001905  -0.002035   \n",
       "\n",
       "   3973.3421  3977.0695  3980.7968  3984.5241  3988.2515  3991.9788  \\\n",
       "0  -0.002075  -0.002154  -0.002012  -0.001937  -0.001972  -0.002195   \n",
       "1   0.007500   0.007479   0.007357   0.007200   0.007395   0.007561   \n",
       "2   0.001132   0.001156   0.001213   0.001225   0.001119   0.000992   \n",
       "3   0.015481   0.015362   0.015307   0.015477   0.015379   0.015176   \n",
       "4  -0.002084  -0.002143  -0.002178  -0.002196  -0.002110  -0.002060   \n",
       "\n",
       "   3995.7062  3999.4335  \n",
       "0  -0.002218  -0.002093  \n",
       "1   0.007416   0.007212  \n",
       "2   0.000941   0.001038  \n",
       "3   0.015227   0.015108  \n",
       "4  -0.002029  -0.002010  \n",
       "\n",
       "[5 rows x 901 columns]"
      ]
     },
     "execution_count": 38,
     "metadata": {},
     "output_type": "execute_result"
    }
   ],
   "source": [
    "data = pd.read_csv(\"/home/sonn/Son/Workspace/IR_PhanLoaiNuocCam/IR/data/processed/data.csv\")\n",
    "data.head()"
   ]
  },
  {
   "cell_type": "code",
   "execution_count": 39,
   "metadata": {},
   "outputs": [],
   "source": [
    "X = data.iloc[:, 1:]\n",
    "tenmau = data[\"TenMau\"]\n",
    "ma = []\n",
    "for mau in tenmau:\n",
    "    ma.append(mau.replace(\"/\", \"\")[0:2])\n",
    "data[\"TenMau\"] = ma"
   ]
  },
  {
   "cell_type": "code",
   "execution_count": 40,
   "metadata": {},
   "outputs": [],
   "source": [
    "y = data[\"TenMau\"]\n",
    "le = LabelEncoder()\n",
    "y = le.fit_transform(y)\n",
    "data[\"TenMau\"] = y"
   ]
  },
  {
   "cell_type": "code",
   "execution_count": 41,
   "metadata": {},
   "outputs": [
    {
     "data": {
      "text/html": [
       "<div>\n",
       "<style scoped>\n",
       "    .dataframe tbody tr th:only-of-type {\n",
       "        vertical-align: middle;\n",
       "    }\n",
       "\n",
       "    .dataframe tbody tr th {\n",
       "        vertical-align: top;\n",
       "    }\n",
       "\n",
       "    .dataframe thead th {\n",
       "        text-align: right;\n",
       "    }\n",
       "</style>\n",
       "<table border=\"1\" class=\"dataframe\">\n",
       "  <thead>\n",
       "    <tr style=\"text-align: right;\">\n",
       "      <th></th>\n",
       "      <th>TenMau</th>\n",
       "      <th>648.5568</th>\n",
       "      <th>652.2841</th>\n",
       "      <th>656.0115</th>\n",
       "      <th>659.7388</th>\n",
       "      <th>663.4661</th>\n",
       "      <th>667.1935</th>\n",
       "      <th>670.9208</th>\n",
       "      <th>674.6481</th>\n",
       "      <th>678.3755</th>\n",
       "      <th>...</th>\n",
       "      <th>3965.8875</th>\n",
       "      <th>3969.6148</th>\n",
       "      <th>3973.3421</th>\n",
       "      <th>3977.0695</th>\n",
       "      <th>3980.7968</th>\n",
       "      <th>3984.5241</th>\n",
       "      <th>3988.2515</th>\n",
       "      <th>3991.9788</th>\n",
       "      <th>3995.7062</th>\n",
       "      <th>3999.4335</th>\n",
       "    </tr>\n",
       "  </thead>\n",
       "  <tbody>\n",
       "    <tr>\n",
       "      <th>0</th>\n",
       "      <td>4</td>\n",
       "      <td>0.305598</td>\n",
       "      <td>0.301469</td>\n",
       "      <td>0.296560</td>\n",
       "      <td>0.291692</td>\n",
       "      <td>0.289974</td>\n",
       "      <td>0.287380</td>\n",
       "      <td>0.284316</td>\n",
       "      <td>0.278987</td>\n",
       "      <td>0.275145</td>\n",
       "      <td>...</td>\n",
       "      <td>-0.002144</td>\n",
       "      <td>-0.002139</td>\n",
       "      <td>-0.002075</td>\n",
       "      <td>-0.002154</td>\n",
       "      <td>-0.002012</td>\n",
       "      <td>-0.001937</td>\n",
       "      <td>-0.001972</td>\n",
       "      <td>-0.002195</td>\n",
       "      <td>-0.002218</td>\n",
       "      <td>-0.002093</td>\n",
       "    </tr>\n",
       "    <tr>\n",
       "      <th>1</th>\n",
       "      <td>0</td>\n",
       "      <td>0.334148</td>\n",
       "      <td>0.326995</td>\n",
       "      <td>0.323069</td>\n",
       "      <td>0.320567</td>\n",
       "      <td>0.320840</td>\n",
       "      <td>0.319613</td>\n",
       "      <td>0.316539</td>\n",
       "      <td>0.312681</td>\n",
       "      <td>0.312266</td>\n",
       "      <td>...</td>\n",
       "      <td>0.007638</td>\n",
       "      <td>0.007602</td>\n",
       "      <td>0.007500</td>\n",
       "      <td>0.007479</td>\n",
       "      <td>0.007357</td>\n",
       "      <td>0.007200</td>\n",
       "      <td>0.007395</td>\n",
       "      <td>0.007561</td>\n",
       "      <td>0.007416</td>\n",
       "      <td>0.007212</td>\n",
       "    </tr>\n",
       "    <tr>\n",
       "      <th>2</th>\n",
       "      <td>4</td>\n",
       "      <td>0.431925</td>\n",
       "      <td>0.424417</td>\n",
       "      <td>0.420497</td>\n",
       "      <td>0.414126</td>\n",
       "      <td>0.408547</td>\n",
       "      <td>0.404646</td>\n",
       "      <td>0.402785</td>\n",
       "      <td>0.394614</td>\n",
       "      <td>0.391310</td>\n",
       "      <td>...</td>\n",
       "      <td>0.001096</td>\n",
       "      <td>0.001071</td>\n",
       "      <td>0.001132</td>\n",
       "      <td>0.001156</td>\n",
       "      <td>0.001213</td>\n",
       "      <td>0.001225</td>\n",
       "      <td>0.001119</td>\n",
       "      <td>0.000992</td>\n",
       "      <td>0.000941</td>\n",
       "      <td>0.001038</td>\n",
       "    </tr>\n",
       "    <tr>\n",
       "      <th>3</th>\n",
       "      <td>9</td>\n",
       "      <td>0.233424</td>\n",
       "      <td>0.229912</td>\n",
       "      <td>0.229714</td>\n",
       "      <td>0.229300</td>\n",
       "      <td>0.231312</td>\n",
       "      <td>0.229293</td>\n",
       "      <td>0.228230</td>\n",
       "      <td>0.227290</td>\n",
       "      <td>0.226978</td>\n",
       "      <td>...</td>\n",
       "      <td>0.015297</td>\n",
       "      <td>0.015310</td>\n",
       "      <td>0.015481</td>\n",
       "      <td>0.015362</td>\n",
       "      <td>0.015307</td>\n",
       "      <td>0.015477</td>\n",
       "      <td>0.015379</td>\n",
       "      <td>0.015176</td>\n",
       "      <td>0.015227</td>\n",
       "      <td>0.015108</td>\n",
       "    </tr>\n",
       "    <tr>\n",
       "      <th>4</th>\n",
       "      <td>11</td>\n",
       "      <td>0.280723</td>\n",
       "      <td>0.276275</td>\n",
       "      <td>0.272200</td>\n",
       "      <td>0.266718</td>\n",
       "      <td>0.264426</td>\n",
       "      <td>0.264696</td>\n",
       "      <td>0.263036</td>\n",
       "      <td>0.257795</td>\n",
       "      <td>0.255794</td>\n",
       "      <td>...</td>\n",
       "      <td>-0.001905</td>\n",
       "      <td>-0.002035</td>\n",
       "      <td>-0.002084</td>\n",
       "      <td>-0.002143</td>\n",
       "      <td>-0.002178</td>\n",
       "      <td>-0.002196</td>\n",
       "      <td>-0.002110</td>\n",
       "      <td>-0.002060</td>\n",
       "      <td>-0.002029</td>\n",
       "      <td>-0.002010</td>\n",
       "    </tr>\n",
       "  </tbody>\n",
       "</table>\n",
       "<p>5 rows × 901 columns</p>\n",
       "</div>"
      ],
      "text/plain": [
       "   TenMau  648.5568  652.2841  656.0115  659.7388  663.4661  667.1935  \\\n",
       "0       4  0.305598  0.301469  0.296560  0.291692  0.289974  0.287380   \n",
       "1       0  0.334148  0.326995  0.323069  0.320567  0.320840  0.319613   \n",
       "2       4  0.431925  0.424417  0.420497  0.414126  0.408547  0.404646   \n",
       "3       9  0.233424  0.229912  0.229714  0.229300  0.231312  0.229293   \n",
       "4      11  0.280723  0.276275  0.272200  0.266718  0.264426  0.264696   \n",
       "\n",
       "   670.9208  674.6481  678.3755  ...  3965.8875  3969.6148  3973.3421  \\\n",
       "0  0.284316  0.278987  0.275145  ...  -0.002144  -0.002139  -0.002075   \n",
       "1  0.316539  0.312681  0.312266  ...   0.007638   0.007602   0.007500   \n",
       "2  0.402785  0.394614  0.391310  ...   0.001096   0.001071   0.001132   \n",
       "3  0.228230  0.227290  0.226978  ...   0.015297   0.015310   0.015481   \n",
       "4  0.263036  0.257795  0.255794  ...  -0.001905  -0.002035  -0.002084   \n",
       "\n",
       "   3977.0695  3980.7968  3984.5241  3988.2515  3991.9788  3995.7062  3999.4335  \n",
       "0  -0.002154  -0.002012  -0.001937  -0.001972  -0.002195  -0.002218  -0.002093  \n",
       "1   0.007479   0.007357   0.007200   0.007395   0.007561   0.007416   0.007212  \n",
       "2   0.001156   0.001213   0.001225   0.001119   0.000992   0.000941   0.001038  \n",
       "3   0.015362   0.015307   0.015477   0.015379   0.015176   0.015227   0.015108  \n",
       "4  -0.002143  -0.002178  -0.002196  -0.002110  -0.002060  -0.002029  -0.002010  \n",
       "\n",
       "[5 rows x 901 columns]"
      ]
     },
     "execution_count": 41,
     "metadata": {},
     "output_type": "execute_result"
    }
   ],
   "source": [
    "data.head()"
   ]
  },
  {
   "cell_type": "code",
   "execution_count": 42,
   "metadata": {},
   "outputs": [
    {
     "data": {
      "text/html": [
       "<div>\n",
       "<style scoped>\n",
       "    .dataframe tbody tr th:only-of-type {\n",
       "        vertical-align: middle;\n",
       "    }\n",
       "\n",
       "    .dataframe tbody tr th {\n",
       "        vertical-align: top;\n",
       "    }\n",
       "\n",
       "    .dataframe thead th {\n",
       "        text-align: right;\n",
       "    }\n",
       "</style>\n",
       "<table border=\"1\" class=\"dataframe\">\n",
       "  <thead>\n",
       "    <tr style=\"text-align: right;\">\n",
       "      <th></th>\n",
       "      <th>648.5568</th>\n",
       "      <th>652.2841</th>\n",
       "      <th>656.0115</th>\n",
       "      <th>659.7388</th>\n",
       "      <th>663.4661</th>\n",
       "      <th>667.1935</th>\n",
       "      <th>670.9208</th>\n",
       "      <th>674.6481</th>\n",
       "      <th>678.3755</th>\n",
       "      <th>682.1028</th>\n",
       "      <th>...</th>\n",
       "      <th>3965.8875</th>\n",
       "      <th>3969.6148</th>\n",
       "      <th>3973.3421</th>\n",
       "      <th>3977.0695</th>\n",
       "      <th>3980.7968</th>\n",
       "      <th>3984.5241</th>\n",
       "      <th>3988.2515</th>\n",
       "      <th>3991.9788</th>\n",
       "      <th>3995.7062</th>\n",
       "      <th>3999.4335</th>\n",
       "    </tr>\n",
       "  </thead>\n",
       "  <tbody>\n",
       "    <tr>\n",
       "      <th>0</th>\n",
       "      <td>0.305598</td>\n",
       "      <td>0.301469</td>\n",
       "      <td>0.296560</td>\n",
       "      <td>0.291692</td>\n",
       "      <td>0.289974</td>\n",
       "      <td>0.287380</td>\n",
       "      <td>0.284316</td>\n",
       "      <td>0.278987</td>\n",
       "      <td>0.275145</td>\n",
       "      <td>0.270213</td>\n",
       "      <td>...</td>\n",
       "      <td>-0.002144</td>\n",
       "      <td>-0.002139</td>\n",
       "      <td>-0.002075</td>\n",
       "      <td>-0.002154</td>\n",
       "      <td>-0.002012</td>\n",
       "      <td>-0.001937</td>\n",
       "      <td>-0.001972</td>\n",
       "      <td>-0.002195</td>\n",
       "      <td>-0.002218</td>\n",
       "      <td>-0.002093</td>\n",
       "    </tr>\n",
       "    <tr>\n",
       "      <th>1</th>\n",
       "      <td>0.334148</td>\n",
       "      <td>0.326995</td>\n",
       "      <td>0.323069</td>\n",
       "      <td>0.320567</td>\n",
       "      <td>0.320840</td>\n",
       "      <td>0.319613</td>\n",
       "      <td>0.316539</td>\n",
       "      <td>0.312681</td>\n",
       "      <td>0.312266</td>\n",
       "      <td>0.307793</td>\n",
       "      <td>...</td>\n",
       "      <td>0.007638</td>\n",
       "      <td>0.007602</td>\n",
       "      <td>0.007500</td>\n",
       "      <td>0.007479</td>\n",
       "      <td>0.007357</td>\n",
       "      <td>0.007200</td>\n",
       "      <td>0.007395</td>\n",
       "      <td>0.007561</td>\n",
       "      <td>0.007416</td>\n",
       "      <td>0.007212</td>\n",
       "    </tr>\n",
       "    <tr>\n",
       "      <th>2</th>\n",
       "      <td>0.431925</td>\n",
       "      <td>0.424417</td>\n",
       "      <td>0.420497</td>\n",
       "      <td>0.414126</td>\n",
       "      <td>0.408547</td>\n",
       "      <td>0.404646</td>\n",
       "      <td>0.402785</td>\n",
       "      <td>0.394614</td>\n",
       "      <td>0.391310</td>\n",
       "      <td>0.385570</td>\n",
       "      <td>...</td>\n",
       "      <td>0.001096</td>\n",
       "      <td>0.001071</td>\n",
       "      <td>0.001132</td>\n",
       "      <td>0.001156</td>\n",
       "      <td>0.001213</td>\n",
       "      <td>0.001225</td>\n",
       "      <td>0.001119</td>\n",
       "      <td>0.000992</td>\n",
       "      <td>0.000941</td>\n",
       "      <td>0.001038</td>\n",
       "    </tr>\n",
       "    <tr>\n",
       "      <th>3</th>\n",
       "      <td>0.233424</td>\n",
       "      <td>0.229912</td>\n",
       "      <td>0.229714</td>\n",
       "      <td>0.229300</td>\n",
       "      <td>0.231312</td>\n",
       "      <td>0.229293</td>\n",
       "      <td>0.228230</td>\n",
       "      <td>0.227290</td>\n",
       "      <td>0.226978</td>\n",
       "      <td>0.225304</td>\n",
       "      <td>...</td>\n",
       "      <td>0.015297</td>\n",
       "      <td>0.015310</td>\n",
       "      <td>0.015481</td>\n",
       "      <td>0.015362</td>\n",
       "      <td>0.015307</td>\n",
       "      <td>0.015477</td>\n",
       "      <td>0.015379</td>\n",
       "      <td>0.015176</td>\n",
       "      <td>0.015227</td>\n",
       "      <td>0.015108</td>\n",
       "    </tr>\n",
       "    <tr>\n",
       "      <th>4</th>\n",
       "      <td>0.280723</td>\n",
       "      <td>0.276275</td>\n",
       "      <td>0.272200</td>\n",
       "      <td>0.266718</td>\n",
       "      <td>0.264426</td>\n",
       "      <td>0.264696</td>\n",
       "      <td>0.263036</td>\n",
       "      <td>0.257795</td>\n",
       "      <td>0.255794</td>\n",
       "      <td>0.252468</td>\n",
       "      <td>...</td>\n",
       "      <td>-0.001905</td>\n",
       "      <td>-0.002035</td>\n",
       "      <td>-0.002084</td>\n",
       "      <td>-0.002143</td>\n",
       "      <td>-0.002178</td>\n",
       "      <td>-0.002196</td>\n",
       "      <td>-0.002110</td>\n",
       "      <td>-0.002060</td>\n",
       "      <td>-0.002029</td>\n",
       "      <td>-0.002010</td>\n",
       "    </tr>\n",
       "  </tbody>\n",
       "</table>\n",
       "<p>5 rows × 900 columns</p>\n",
       "</div>"
      ],
      "text/plain": [
       "   648.5568  652.2841  656.0115  659.7388  663.4661  667.1935  670.9208  \\\n",
       "0  0.305598  0.301469  0.296560  0.291692  0.289974  0.287380  0.284316   \n",
       "1  0.334148  0.326995  0.323069  0.320567  0.320840  0.319613  0.316539   \n",
       "2  0.431925  0.424417  0.420497  0.414126  0.408547  0.404646  0.402785   \n",
       "3  0.233424  0.229912  0.229714  0.229300  0.231312  0.229293  0.228230   \n",
       "4  0.280723  0.276275  0.272200  0.266718  0.264426  0.264696  0.263036   \n",
       "\n",
       "   674.6481  678.3755  682.1028  ...  3965.8875  3969.6148  3973.3421  \\\n",
       "0  0.278987  0.275145  0.270213  ...  -0.002144  -0.002139  -0.002075   \n",
       "1  0.312681  0.312266  0.307793  ...   0.007638   0.007602   0.007500   \n",
       "2  0.394614  0.391310  0.385570  ...   0.001096   0.001071   0.001132   \n",
       "3  0.227290  0.226978  0.225304  ...   0.015297   0.015310   0.015481   \n",
       "4  0.257795  0.255794  0.252468  ...  -0.001905  -0.002035  -0.002084   \n",
       "\n",
       "   3977.0695  3980.7968  3984.5241  3988.2515  3991.9788  3995.7062  3999.4335  \n",
       "0  -0.002154  -0.002012  -0.001937  -0.001972  -0.002195  -0.002218  -0.002093  \n",
       "1   0.007479   0.007357   0.007200   0.007395   0.007561   0.007416   0.007212  \n",
       "2   0.001156   0.001213   0.001225   0.001119   0.000992   0.000941   0.001038  \n",
       "3   0.015362   0.015307   0.015477   0.015379   0.015176   0.015227   0.015108  \n",
       "4  -0.002143  -0.002178  -0.002196  -0.002110  -0.002060  -0.002029  -0.002010  \n",
       "\n",
       "[5 rows x 900 columns]"
      ]
     },
     "execution_count": 42,
     "metadata": {},
     "output_type": "execute_result"
    }
   ],
   "source": [
    "X.head()"
   ]
  },
  {
   "cell_type": "code",
   "execution_count": 43,
   "metadata": {},
   "outputs": [],
   "source": [
    "Y = data[\"TenMau\"]"
   ]
  },
  {
   "cell_type": "code",
   "execution_count": 44,
   "metadata": {},
   "outputs": [],
   "source": [
    "X_train, X_test, y_train, y_test = train_test_split(X, Y, test_size=0.2, random_state=42)"
   ]
  },
  {
   "cell_type": "code",
   "execution_count": 45,
   "metadata": {},
   "outputs": [],
   "source": [
    "# onehot = OneHotEncoder(sparse_output=False)\n",
    "# y_train = onehot.fit_transform(y_train.values.reshape(-1,1))\n",
    "# y_test = onehot.fit_transform(y_test.values.reshape(-1,1))"
   ]
  },
  {
   "cell_type": "code",
   "execution_count": 46,
   "metadata": {},
   "outputs": [],
   "source": [
    "scaler = StandardScaler()\n",
    "X_train_scaled = scaler.fit_transform(X_train)\n",
    "X_test_scaled = scaler.transform(X_test)"
   ]
  },
  {
   "cell_type": "code",
   "execution_count": 47,
   "metadata": {},
   "outputs": [
    {
     "data": {
      "image/png": "[encoded data removed]",
      "text/plain": [
       "<Figure size 640x480 with 1 Axes>"
      ]
     },
     "metadata": {},
     "output_type": "display_data"
    }
   ],
   "source": [
    "pca = PCA(5)\n",
    "pca.fit(X_train)\n",
    "explained_variance = pca.explained_variance_ratio_\n",
    "cumulative_explained_variance = np.cumsum(explained_variance)\n",
    "plt.plot(np.arange(1, len(cumulative_explained_variance) + 1), cumulative_explained_variance, marker='o')\n",
    "plt.xlabel('Number of Components')\n",
    "plt.ylabel('Cumulative Explained Variance')\n",
    "plt.title('Cumulative Explained Variance')\n",
    "plt.show()"
   ]
  },
  {
   "cell_type": "code",
   "execution_count": 48,
   "metadata": {},
   "outputs": [],
   "source": [
    "pca = PCA(n_components=5)\n",
    "PC_X_train = pca.fit_transform(X_train_scaled)\n",
    "X_train_pca = pd.DataFrame(data=PC_X_train)\n",
    "X_train_pca_ar = np.array(X_train_pca)"
   ]
  },
  {
   "cell_type": "code",
   "execution_count": 49,
   "metadata": {},
   "outputs": [],
   "source": [
    "X_train_pca.to_csv(\"hi.csv\")"
   ]
  },
  {
   "cell_type": "code",
   "execution_count": 50,
   "metadata": {},
   "outputs": [],
   "source": [
    "PC_X_test = pca.fit_transform(X_test_scaled)\n",
    "X_test_pca = pd.DataFrame(data=PC_X_test)\n",
    "X_test_pca_ar = np.array(X_test_pca)"
   ]
  },
  {
   "cell_type": "code",
   "execution_count": 66,
   "metadata": {},
   "outputs": [
    {
     "data": {
      "text/plain": [
       "4"
      ]
     },
     "execution_count": 66,
     "metadata": {},
     "output_type": "execute_result"
    }
   ],
   "source": [
    "y_train[0]"
   ]
  },
  {
   "cell_type": "code",
   "execution_count": 53,
   "metadata": {},
   "outputs": [],
   "source": [
    "train_input = torch.tensor(X_train_pca_ar, dtype=torch.float32)\n",
    "train_label = torch.tensor(y_train.values, dtype=torch.float32).unsqueeze(1)\n",
    "test_input = torch.tensor(X_test_pca_ar, dtype=torch.float32)\n",
    "test_label = torch.tensor(y_test.values, dtype=torch.float32).unsqueeze(1)"
   ]
  },
  {
   "cell_type": "code",
   "execution_count": 54,
   "metadata": {},
   "outputs": [],
   "source": [
    "assert not torch.isnan(train_input).any(), \"NaNs found in train_input\"\n",
    "assert not torch.isnan(train_label).any(), \"NaNs found in train_label\"\n",
    "assert not torch.isnan(test_input).any(), \"NaNs found in test_input\"\n",
    "assert not torch.isnan(test_label).any(), \"NaNs found in test_label\"\n",
    "assert not torch.isinf(train_input).any(), \"Infinities found in train_input\"\n",
    "assert not torch.isinf(train_label).any(), \"Infinities found in train_label\"\n",
    "assert not torch.isinf(test_input).any(), \"Infinities found in test_input\"\n",
    "assert not torch.isinf(test_label).any(), \"Infinities found in test_label\""
   ]
  },
  {
   "cell_type": "code",
   "execution_count": 55,
   "metadata": {},
   "outputs": [],
   "source": [
    "dataset = {\n",
    "    'train_input': train_input,\n",
    "    'train_label': train_label,\n",
    "    'test_input': test_input,\n",
    "    'test_label': test_label\n",
    "}"
   ]
  },
  {
   "cell_type": "code",
   "execution_count": 56,
   "metadata": {},
   "outputs": [],
   "source": [
    "from kan import KAN, create_dataset"
   ]
  },
  {
   "cell_type": "code",
   "execution_count": 57,
   "metadata": {},
   "outputs": [],
   "source": [
    "from kan import KAN, create_dataset\n",
    "\n",
    "input_dim = train_input.shape[1]  # Number of input features\n",
    "output_dim = 1  \n",
    "model = KAN(width=[input_dim, 3, output_dim], grid=3, k=2, seed=0)  # Simplified model configuration"
   ]
  },
  {
   "cell_type": "code",
   "execution_count": 58,
   "metadata": {},
   "outputs": [
    {
     "data": {
      "image/png": "[encoded data removed]",
      "text/plain": [
       "<Figure size 500x400 with 19 Axes>"
      ]
     },
     "metadata": {},
     "output_type": "display_data"
    }
   ],
   "source": [
    "model(dataset['train_input'])\n",
    "model.plot(beta=100)"
   ]
  },
  {
   "cell_type": "code",
   "execution_count": 59,
   "metadata": {},
   "outputs": [
    {
     "name": "stderr",
     "output_type": "stream",
     "text": [
      "train loss: 5.92e+00 | test loss: 9.31e+00 | reg: 4.80e+01 : 100%|██| 50/50 [00:00<00:00, 62.91it/s]\n"
     ]
    },
    {
     "data": {
      "image/png": "[encoded data removed]",
      "text/plain": [
       "<Figure size 500x400 with 19 Axes>"
      ]
     },
     "metadata": {},
     "output_type": "display_data"
    }
   ],
   "source": [
    "model.train(dataset, opt=\"Adam\", steps=50, lr=0.001, lamb=0.01, lamb_entropy=10.)\n",
    "model.plot()"
   ]
  },
  {
   "cell_type": "code",
   "execution_count": 60,
   "metadata": {},
   "outputs": [
    {
     "data": {
      "image/png": "[encoded data removed]",
      "text/plain": [
       "<Figure size 500x400 with 19 Axes>"
      ]
     },
     "metadata": {},
     "output_type": "display_data"
    },
    {
     "data": {
      "image/png": "[encoded data removed]",
      "text/plain": [
       "<Figure size 500x400 with 19 Axes>"
      ]
     },
     "metadata": {},
     "output_type": "display_data"
    }
   ],
   "source": [
    "model.prune()\n",
    "model.plot(mask=True)\n",
    "model = model.prune()\n",
    "model(dataset['train_input'])\n",
    "model.plot()"
   ]
  },
  {
   "cell_type": "code",
   "execution_count": 61,
   "metadata": {},
   "outputs": [
    {
     "name": "stderr",
     "output_type": "stream",
     "text": [
      "train loss: 4.82e+00 | test loss: 7.50e+00 | reg: 1.00e+01 : 100%|██| 50/50 [00:00<00:00, 51.98it/s]\n"
     ]
    },
    {
     "data": {
      "image/png": "[encoded data removed]",
      "text/plain": [
       "<Figure size 500x400 with 19 Axes>"
      ]
     },
     "metadata": {},
     "output_type": "display_data"
    }
   ],
   "source": [
    "model.train(dataset, opt=\"Adam\", steps=50, lr=0.001)\n",
    "model.plot()"
   ]
  },
  {
   "cell_type": "code",
   "execution_count": 62,
   "metadata": {},
   "outputs": [
    {
     "name": "stdout",
     "output_type": "stream",
     "text": [
      "fixing (0,0,0) with x^2, r2=0.9712659120559692\n",
      "fixing (0,0,1) with x^2, r2=0.9804753065109253\n",
      "fixing (0,0,2) with x^2, r2=0.9698411226272583\n",
      "fixing (0,1,0) with x^2, r2=0.9580233097076416\n",
      "fixing (0,1,1) with x^2, r2=0.959886372089386\n",
      "fixing (0,1,2) with x^2, r2=0.9593762159347534\n",
      "fixing (0,2,0) with sin, r2=0.9953702092170715\n",
      "fixing (0,2,1) with sin, r2=0.9917665123939514\n",
      "fixing (0,2,2) with sin, r2=0.987537682056427\n",
      "fixing (0,3,0) with sin, r2=0.995881199836731\n",
      "fixing (0,3,1) with tanh, r2=0.9992230534553528\n",
      "fixing (0,3,2) with sin, r2=0.9957482218742371\n",
      "fixing (0,4,0) with sin, r2=0.9996805191040039\n",
      "fixing (0,4,1) with sin, r2=0.9996059536933899\n",
      "fixing (0,4,2) with sin, r2=0.9996671676635742\n",
      "fixing (1,0,0) with abs, r2=0.9997755885124207\n",
      "fixing (1,1,0) with x^2, r2=0.9929695129394531\n",
      "fixing (1,2,0) with abs, r2=0.9993820786476135\n"
     ]
    },
    {
     "data": {
      "text/latex": [
       "$\\displaystyle 0.81 \\left(0.01 \\left(- 0.02 x_{1} - 1\\right)^{2} - 0.03 \\left(- 0.08 x_{2} - 1\\right)^{2} - 0.08 \\sin{\\left(0.24 x_{3} - 7.36 \\right)} + 0.04 \\sin{\\left(0.3 x_{5} + 2.03 \\right)} - 0.01 \\tanh{\\left(0.34 x_{4} - 1.0 \\right)} - 1\\right)^{2} + 0.07 \\left|{9.42 \\left(0.03 x_{1} + 1\\right)^{2} + 5.83 \\left(0.08 x_{2} + 1\\right)^{2} - 3.12 \\sin{\\left(0.27 x_{3} - 4.34 \\right)} + 15.35 \\sin{\\left(0.29 x_{4} - 1.09 \\right)} + 4.78 \\sin{\\left(0.33 x_{5} - 7.4 \\right)} + 16.39}\\right| + 0.04 \\left|{48.86 \\left(0.03 x_{1} + 1\\right)^{2} + 4.35 \\left(0.08 x_{2} + 1\\right)^{2} + 9.05 \\sin{\\left(0.22 x_{3} + 8.43 \\right)} + 13.67 \\sin{\\left(0.3 x_{4} - 1.08 \\right)} + 5.54 \\sin{\\left(0.32 x_{5} + 5.19 \\right)} - 2.32}\\right| - 0.9$"
      ],
      "text/plain": [
       "0.81*(0.01*(-0.02*x_1 - 1)**2 - 0.03*(-0.08*x_2 - 1)**2 - 0.08*sin(0.24*x_3 - 7.36) + 0.04*sin(0.3*x_5 + 2.03) - 0.01*tanh(0.34*x_4 - 1.0) - 1)**2 + 0.07*Abs(9.42*(0.03*x_1 + 1)**2 + 5.83*(0.08*x_2 + 1)**2 - 3.12*sin(0.27*x_3 - 4.34) + 15.35*sin(0.29*x_4 - 1.09) + 4.78*sin(0.33*x_5 - 7.4) + 16.39) + 0.04*Abs(48.86*(0.03*x_1 + 1)**2 + 4.35*(0.08*x_2 + 1)**2 + 9.05*sin(0.22*x_3 + 8.43) + 13.67*sin(0.3*x_4 - 1.08) + 5.54*sin(0.32*x_5 + 5.19) - 2.32) - 0.9"
      ]
     },
     "execution_count": 62,
     "metadata": {},
     "output_type": "execute_result"
    }
   ],
   "source": [
    "lib = ['x','x^2','x^3','x^4','exp','log','sqrt','tanh','sin','tan','abs']\n",
    "model.auto_symbolic(lib=lib)\n",
    "formula = model.symbolic_formula()[0][0]\n",
    "formula"
   ]
  }
 ],
 "metadata": {
  "kernelspec": {
   "display_name": "WSAIPython3.11",
   "language": "python",
   "name": "python3"
  },
  "language_info": {
   "codemirror_mode": {
    "name": "ipython",
    "version": 3
   },
   "file_extension": ".py",
   "mimetype": "text/x-python",
   "name": "python",
   "nbconvert_exporter": "python",
   "pygments_lexer": "ipython3",
   "version": "3.11.9"
  }
 },
 "nbformat": 4,
 "nbformat_minor": 2
}
